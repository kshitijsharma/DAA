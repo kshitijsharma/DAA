{
 "cells": [
  {
   "cell_type": "code",
   "execution_count": 1,
   "metadata": {},
   "outputs": [],
   "source": [
    "from itertools import permutations\n",
    "import numpy as np\n",
    "import time "
   ]
  },
  {
   "cell_type": "code",
   "execution_count": 2,
   "metadata": {},
   "outputs": [
    {
     "name": "stdout",
     "output_type": "stream",
     "text": [
      "Enter the name of source file[ip.txt,ip1.txt]: \n",
      "ip1.txt\n"
     ]
    }
   ],
   "source": [
    "print('Enter the name of source file[ip.txt,ip1.txt]: ')\n",
    "file_path = input()\n",
    "with open(file_path,'rt') as fin:\n",
    "    lines = fin.readlines()\n",
    "    n = int(lines[0])\n",
    "    e = int(lines[1])\n",
    "\n",
    "\n",
    "    adjacency = np.array([[False for j in range(n)] for i in range(n)])\n",
    "\n",
    "    for i in range(e):\n",
    "        data = tuple(map(int,lines[i+2].split(' ')))\n",
    "        adjacency[data[0]-1][data[1]-1] = adjacency[data[1]-1][data[0]-1] = True"
   ]
  },
  {
   "cell_type": "markdown",
   "metadata": {},
   "source": [
    "## Contents of file\n",
    "\n"
   ]
  },
  {
   "cell_type": "code",
   "execution_count": 3,
   "metadata": {},
   "outputs": [
    {
     "name": "stdout",
     "output_type": "stream",
     "text": [
      "12\r\n",
      "20\r\n",
      "1 2\r\n",
      "1 3\r\n",
      "1 4\r\n",
      "2 5\r\n",
      "2 6\r\n",
      "5 6\r\n",
      "5 9\r\n",
      "5 8\r\n",
      "6 9\r\n",
      "6 12\r\n",
      "12 11\r\n",
      "9 11\r\n",
      "11 8\r\n",
      "11 10\r\n",
      "8 10\r\n",
      "10 7\r\n",
      "7 8\r\n",
      "7 3\r\n",
      "8 4\r\n",
      "3 4\r\n",
      "\r\n"
     ]
    }
   ],
   "source": [
    "!cat $file_path"
   ]
  },
  {
   "cell_type": "code",
   "execution_count": 4,
   "metadata": {},
   "outputs": [
    {
     "data": {
      "text/plain": [
       "12"
      ]
     },
     "execution_count": 4,
     "metadata": {},
     "output_type": "execute_result"
    }
   ],
   "source": [
    "adjacency.shape[0]"
   ]
  },
  {
   "cell_type": "code",
   "execution_count": 5,
   "metadata": {},
   "outputs": [
    {
     "data": {
      "text/plain": [
       "array([[False,  True,  True,  True, False, False, False, False, False,\n",
       "        False, False, False],\n",
       "       [ True, False, False, False,  True,  True, False, False, False,\n",
       "        False, False, False],\n",
       "       [ True, False, False,  True, False, False,  True, False, False,\n",
       "        False, False, False],\n",
       "       [ True, False,  True, False, False, False, False,  True, False,\n",
       "        False, False, False],\n",
       "       [False,  True, False, False, False,  True, False,  True,  True,\n",
       "        False, False, False],\n",
       "       [False,  True, False, False,  True, False, False, False,  True,\n",
       "        False, False,  True],\n",
       "       [False, False,  True, False, False, False, False,  True, False,\n",
       "         True, False, False],\n",
       "       [False, False, False,  True,  True, False,  True, False, False,\n",
       "         True,  True, False],\n",
       "       [False, False, False, False,  True,  True, False, False, False,\n",
       "        False,  True, False],\n",
       "       [False, False, False, False, False, False,  True,  True, False,\n",
       "        False,  True, False],\n",
       "       [False, False, False, False, False, False, False,  True,  True,\n",
       "         True, False,  True],\n",
       "       [False, False, False, False, False,  True, False, False, False,\n",
       "        False,  True, False]])"
      ]
     },
     "execution_count": 5,
     "metadata": {},
     "output_type": "execute_result"
    }
   ],
   "source": [
    "adjacency"
   ]
  },
  {
   "cell_type": "code",
   "execution_count": 6,
   "metadata": {},
   "outputs": [],
   "source": [
    "def test(sequence,adjacency):\n",
    "    length = len(sequence)\n",
    "    if length != n + 1:\n",
    "        return False\n",
    "\n",
    "    for i in range(length - 1):\n",
    "        if not adjacency[sequence[i]][sequence[i+1]]:\n",
    "            return False\n",
    "\n",
    "    return True"
   ]
  },
  {
   "cell_type": "code",
   "execution_count": 7,
   "metadata": {},
   "outputs": [],
   "source": [
    "def hamilton_permutations(adjacency):\n",
    "    global n\n",
    "    found = False\n",
    "    for seq in permutations(range(1,adjacency.shape[0])):\n",
    "        seq = tuple([0]) + seq + tuple([0])\n",
    "        if(test(seq,adjacency)):\n",
    "            found = True\n",
    "            actual_seq = tuple(map(lambda x: x + 1,seq))\n",
    "            print('Circuit Exists: ',actual_seq)\n",
    "    if not found:\n",
    "        print('No Hamiltonian Circuit found!')\n",
    "     \n",
    "    \n",
    "    "
   ]
  },
  {
   "cell_type": "code",
   "execution_count": 8,
   "metadata": {},
   "outputs": [
    {
     "name": "stdout",
     "output_type": "stream",
     "text": [
      "Circuit Exists:  (1, 2, 5, 9, 6, 12, 11, 8, 10, 7, 3, 4, 1)\n",
      "Circuit Exists:  (1, 2, 5, 9, 6, 12, 11, 10, 7, 8, 4, 3, 1)\n",
      "Circuit Exists:  (1, 2, 5, 9, 6, 12, 11, 10, 8, 7, 3, 4, 1)\n",
      "Circuit Exists:  (1, 2, 6, 12, 11, 9, 5, 8, 10, 7, 3, 4, 1)\n",
      "Circuit Exists:  (1, 3, 4, 8, 7, 10, 11, 12, 6, 9, 5, 2, 1)\n",
      "Circuit Exists:  (1, 4, 3, 7, 8, 10, 11, 12, 6, 9, 5, 2, 1)\n",
      "Circuit Exists:  (1, 4, 3, 7, 10, 8, 5, 9, 11, 12, 6, 2, 1)\n",
      "Circuit Exists:  (1, 4, 3, 7, 10, 8, 11, 12, 6, 9, 5, 2, 1)\n",
      "Time taken:  36.663930892944336\n"
     ]
    }
   ],
   "source": [
    "start = time.time()\n",
    "hamilton_permutations(adjacency)\n",
    "end = time.time()\n",
    "print('Time taken: ',(end-start))"
   ]
  },
  {
   "cell_type": "code",
   "execution_count": 9,
   "metadata": {},
   "outputs": [],
   "source": [
    "def hamilton_pruning(adjacency):\n",
    "    visited = np.array([False for i in range(adjacency.shape[0])])\n",
    "    sequence = tuple([0])\n",
    "    \n",
    "    def generate_successors(current_state):\n",
    "        \n",
    "        #All vertices are present exactly once, so add start vertex to path\n",
    "        if len(current_state) == adjacency.shape[0]:\n",
    "            \n",
    "            #Check if the start vertex is adjacent to the last vertex in path\n",
    "            if adjacency[current_state[-1]][0]:\n",
    "                yield current_state + tuple([0])\n",
    "            #If not, Not a valid path\n",
    "            else:\n",
    "                yield None\n",
    "\n",
    "            return\n",
    "        \n",
    "        \n",
    "        #Finding the last vertex in the path\n",
    "        last_vertex  = current_state[-1]\n",
    "        \n",
    "        #Acquiring the adjacent vertices\n",
    "        adjacent_vertices = adjacency[last_vertex]\n",
    "        \n",
    "        found = False\n",
    "        \n",
    "        for vertex in range(len(adjacent_vertices)):\n",
    "            \n",
    "            #Add vertices adjacent to this vertex which are not previously in the path\n",
    "            if adjacent_vertices[vertex] and vertex not in current_state:\n",
    "                yield current_state + tuple([vertex])\n",
    "                found = True\n",
    "                \n",
    "        #The last vertex in sequence contains no adjacent vertices which are not in path\n",
    "        if not found:\n",
    "            yield None\n",
    "        \n",
    "    \n",
    "    def hamilton_dfs(sequence):\n",
    "\n",
    "        #If it is hamiltonian path,print and exit\n",
    "        if(test(sequence,adjacency)):\n",
    "            actual_seq = tuple(map(lambda x: x + 1,sequence))\n",
    "            print('Circuit Exists: ',actual_seq)\n",
    "            return\n",
    "        \n",
    "        #Add another vertex to the state\n",
    "        for next_state in generate_successors(sequence):\n",
    "            \n",
    "            #\n",
    "            if next_state is None:\n",
    "                break\n",
    "            hamilton_dfs(next_state)\n",
    "        \n",
    "\n",
    "    hamilton_dfs(sequence)\n",
    "    "
   ]
  },
  {
   "cell_type": "code",
   "execution_count": 10,
   "metadata": {},
   "outputs": [
    {
     "name": "stdout",
     "output_type": "stream",
     "text": [
      "Circuit Exists:  (1, 2, 5, 9, 6, 12, 11, 8, 10, 7, 3, 4, 1)\n",
      "Circuit Exists:  (1, 2, 5, 9, 6, 12, 11, 10, 7, 8, 4, 3, 1)\n",
      "Circuit Exists:  (1, 2, 5, 9, 6, 12, 11, 10, 8, 7, 3, 4, 1)\n",
      "Circuit Exists:  (1, 2, 6, 12, 11, 9, 5, 8, 10, 7, 3, 4, 1)\n",
      "Circuit Exists:  (1, 3, 4, 8, 7, 10, 11, 12, 6, 9, 5, 2, 1)\n",
      "Circuit Exists:  (1, 4, 3, 7, 8, 10, 11, 12, 6, 9, 5, 2, 1)\n",
      "Circuit Exists:  (1, 4, 3, 7, 10, 8, 5, 9, 11, 12, 6, 2, 1)\n",
      "Circuit Exists:  (1, 4, 3, 7, 10, 8, 11, 12, 6, 9, 5, 2, 1)\n",
      "Time taken:  0.012526273727416992\n"
     ]
    }
   ],
   "source": [
    "start = time.time()\n",
    "hamilton_pruning(adjacency)\n",
    "end = time.time()\n",
    "print('Time taken: ',(end-start))"
   ]
  }
 ],
 "metadata": {
  "kernelspec": {
   "display_name": "Python 3",
   "language": "python",
   "name": "python3"
  },
  "language_info": {
   "codemirror_mode": {
    "name": "ipython",
    "version": 3
   },
   "file_extension": ".py",
   "mimetype": "text/x-python",
   "name": "python",
   "nbconvert_exporter": "python",
   "pygments_lexer": "ipython3",
   "version": "3.7.6"
  }
 },
 "nbformat": 4,
 "nbformat_minor": 4
}
